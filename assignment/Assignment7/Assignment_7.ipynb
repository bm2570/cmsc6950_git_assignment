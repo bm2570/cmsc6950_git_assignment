{
 "cells": [
  {
   "cell_type": "markdown",
   "metadata": {},
   "source": [
    "# Assignment 7 - Numpy and Matplotlib\n",
    "### Due Thursday, June 3, 2021\n",
    "\n",
    "Your assignment should be handed in as an iPython/Jupyter notebook checked into your private GitHub repository `CMSC6950_Assignments` with the filename `Assignment_7.ipynb`. \n",
    "\n",
    "## 1 Plotting and analyzing ARGO float data\n",
    "\n",
    "#### 1.1 Import numpy\n"
   ]
  },
  {
   "cell_type": "code",
   "execution_count": 368,
   "metadata": {},
   "outputs": [],
   "source": [
    "import numpy as np"
   ]
  },
  {
   "cell_type": "markdown",
   "metadata": {},
   "source": [
    "\n",
    "#### 1.2 Use the shell command `wget` to download an example ARGO float profile from the North Atlantic.\n",
    "The data file's url is http://www.ldeo.columbia.edu/~rpa/argo_float_4901412.npz"
   ]
  },
  {
   "cell_type": "markdown",
   "metadata": {},
   "source": [
    "(you can have bash command inside a Jupyter cell if they start with a `!` )"
   ]
  },
  {
   "cell_type": "code",
   "execution_count": 370,
   "metadata": {},
   "outputs": [],
   "source": [
    "!wget http://www.ldeo.columbia.edu/~rpa/argo_float_4901412.npz --no-check-certificate"
   ]
  },
  {
   "cell_type": "markdown",
   "metadata": {},
   "source": [
    "#### 1.3 Load the data file"
   ]
  },
  {
   "cell_type": "code",
   "execution_count": 392,
   "metadata": {},
   "outputs": [],
   "source": [
    "data = np.load('argo_float_4901412.npz')"
   ]
  },
  {
   "cell_type": "markdown",
   "metadata": {},
   "source": [
    "#### 1.4 Extract the temperature, pressure and salinity arrays to arrays T, S, P and mask out invalid data (the nan values from missing points)."
   ]
  },
  {
   "cell_type": "code",
   "execution_count": 393,
   "metadata": {},
   "outputs": [],
   "source": [
    "T=data['T']\n",
    "S=data['S']\n",
    "P=data['P']\n",
    "\n",
    "x=len(T)\n",
    "y=len(T[0])\n",
    "\n",
    "##Loop below replaces nans in the dataset with 0\n",
    "nan_num=0\n",
    "for i in range(x):\n",
    "    for j in range(y):\n",
    "        T_temp=np.isnan(T[i][j])\n",
    "        S_temp=np.isnan(S[i][j])\n",
    "        P_temp=np.isnan(P[i][j])\n",
    "        if T_temp==True or S_temp==True or P_temp==True:\n",
    "            T[i][j]=0\n",
    "            S[i][j]=0\n",
    "            P[i][j]=0\n",
    "            nan_num=nan_num+1\n",
    "#print(T)\n",
    "         "
   ]
  },
  {
   "cell_type": "markdown",
   "metadata": {},
   "source": [
    "#### 1.5 Extract the date, lat, lon, and levels arrays. "
   ]
  },
  {
   "cell_type": "code",
   "execution_count": 394,
   "metadata": {},
   "outputs": [],
   "source": [
    "date=data['date']\n",
    "lat=data['lat']\n",
    "lon=data['lon']\n",
    "levels=data['levels']\n"
   ]
  },
  {
   "cell_type": "markdown",
   "metadata": {},
   "source": [
    "#### 1.5 Note the shapes of T, S and P compared to these arrays. How do they line up?"
   ]
  },
  {
   "cell_type": "code",
   "execution_count": 395,
   "metadata": {},
   "outputs": [
    {
     "name": "stdout",
     "output_type": "stream",
     "text": [
      "T shape:  (78, 75)\n",
      "S shape:  (78, 75)\n",
      "P shape:  (78, 75)\n",
      "date shape:  (75,)\n",
      "lat shape:  (75,)\n",
      "lon shape:  (75,)\n",
      "levels shape:  (78,)\n",
      "T,S,P are NDarrays while lat,date,lon, and levels are all 1D arrays\n"
     ]
    }
   ],
   "source": [
    "print('T shape: ',T.shape)\n",
    "print('S shape: ',S.shape)\n",
    "print('P shape: ',P.shape)\n",
    "\n",
    "print('date shape: ',date.shape)\n",
    "print('lat shape: ',lat.shape)\n",
    "print('lon shape: ',lon.shape)\n",
    "print('levels shape: ',levels.shape)\n",
    "####\n",
    "print('T,S,P are NDarrays while lat,date,lon, and levels are all 1D arrays')"
   ]
  },
  {
   "cell_type": "markdown",
   "metadata": {},
   "source": [
    "#### 1.6 Load the necessary package for plotting using pyplot from matplotlib."
   ]
  },
  {
   "cell_type": "code",
   "execution_count": 396,
   "metadata": {},
   "outputs": [],
   "source": [
    "import matplotlib.pyplot as plt"
   ]
  },
  {
   "cell_type": "markdown",
   "metadata": {},
   "source": [
    "#### 1.7 Make a 1 x 3 array of plots for each column of data in T, S and P. \n",
    "The vertical scale should be the `levels` data. Flip the veritcal axis direction so that levels increase downward on the plot. Each plot should have a line for each column of data. It will look messy.  Make sure you label the axes and put a title on each subplot."
   ]
  },
  {
   "cell_type": "code",
   "execution_count": 397,
   "metadata": {},
   "outputs": [
    {
     "data": {
      "image/png": "[encoded data removed]",
      "text/plain": [
       "<Figure size 432x288 with 3 Axes>"
      ]
     },
     "metadata": {
      "needs_background": "light"
     },
     "output_type": "display_data"
    }
   ],
   "source": [
    "fig, index = plt.subplots(1,3)\n",
    "fig.suptitle('levels as functions of temperature (T), salinity (S), and pressure (P)')\n",
    "index[0].plot(T,levels,marker=',',linestyle=' ')\n",
    "index[0].set(xlabel='T',ylabel='levels')\n",
    "index[0].set_xlim([1, 25])\n",
    "\n",
    "index[1].plot(S,levels,marker=',',linestyle=' ')\n",
    "index[1].set(xlabel='S')\n",
    "index[1].set_xlim([34, 37])\n",
    "index[2].plot(P,levels,marker='.',linestyle=' ')\n",
    "index[2].set(xlabel='P') \n",
    "index[2].set_xlim([5, 2100])\n",
    "plt.show()"
   ]
  },
  {
   "cell_type": "markdown",
   "metadata": {},
   "source": [
    "#### 1.8 Compute the mean and standard deviation of each of T, S and P at each depth in `levels`."
   ]
  },
  {
   "cell_type": "code",
   "execution_count": 398,
   "metadata": {},
   "outputs": [],
   "source": [
    "meanT=np.zeros(len(levels))\n",
    "meanS=np.zeros(len(levels))\n",
    "meanP=np.zeros(len(levels))\n",
    "sd_T=np.zeros(len(levels))\n",
    "sd_S=np.zeros(len(levels))\n",
    "sd_P=np.zeros(len(levels))\n",
    "\n",
    "for i in range(len(levels)):\n",
    "    meanT[i]=np.mean(T[i][T[i]!=0])\n",
    "    meanS[i]=np.mean(S[i][S[i]!=0])\n",
    "    meanP[i]=np.mean(P[i][P[i]!=0])\n",
    "    sd_T[i]=np.std(T[i][T[i]!=0])\n",
    "    sd_S[i]=np.std(S[i][S[i]!=0])\n",
    "    sd_P[i]=np.std(P[i][P[i]!=0])    "
   ]
  },
  {
   "cell_type": "markdown",
   "metadata": {},
   "source": [
    "#### 1.9 Now make a similar plot, but show only the mean T, S and P at each depth. Show error bars on each plot using the standard deviations. \n",
    " Again, make sure you label the axes and put a title on each subplot."
   ]
  },
  {
   "cell_type": "code",
   "execution_count": 399,
   "metadata": {},
   "outputs": [
    {
     "data": {
      "image/png": "[encoded data removed]",
      "text/plain": [
       "<Figure size 432x288 with 3 Axes>"
      ]
     },
     "metadata": {
      "needs_background": "light"
     },
     "output_type": "display_data"
    }
   ],
   "source": [
    "## Note can't see error of levels(P) due to scale\n",
    "\n",
    "fig, axes = plt.subplots(1,3)\n",
    "fig.suptitle('levels as functions of the mean temperature (T), salinity (S), and pressure (P)')\n",
    "\n",
    "axes[0].errorbar(meanT,levels, xerr=sd_T)\n",
    "axes[0].set(xlabel='T')\n",
    "axes[0].set(ylabel='levels')\n",
    "axes[1].errorbar(meanS,levels, xerr=sd_S)\n",
    "axes[1].set(xlabel='S')\n",
    "axes[2].errorbar(meanP,levels, xerr=sd_P)\n",
    "axes[2].set(xlabel='P')\n",
    "\n",
    "plt.show()\n"
   ]
  },
  {
   "cell_type": "markdown",
   "metadata": {},
   "source": [
    "#### 1.10  Compute the mean and standard deviation of each of T, S and P for each time in `date`."
   ]
  },
  {
   "cell_type": "code",
   "execution_count": 400,
   "metadata": {},
   "outputs": [],
   "source": [
    "T_time=np.zeros(len(T[0]))\n",
    "S_time=np.zeros(len(T[0]))\n",
    "P_time=np.zeros(len(T[0]))\n",
    "\n",
    "T_std=np.zeros(len(T[0]))\n",
    "S_std=np.zeros(len(T[0]))\n",
    "P_std=np.zeros(len(T[0]))\n",
    "\n",
    "tempT=0\n",
    "tempS=0\n",
    "tempP=0\n",
    "lenT=0\n",
    "lenS=0\n",
    "lenP=0\n",
    "\n",
    "\n",
    "templistT=[]\n",
    "templistP=[]\n",
    "templistS=[]\n",
    "\n",
    "\n",
    "for i in range(len(T[0])):\n",
    "    for time in range(len(T)):\n",
    "        ## Using if statements to remove the nan values (relabelled as 0 above) from the raw data\n",
    "        if T[time][i]>0:\n",
    "            tempT+=T[time][i]\n",
    "            lenT+=1\n",
    "            templistT.append(T[time][i])\n",
    "        if S[time][i]>0:\n",
    "            tempS+=S[time][i]\n",
    "            lenS+=1\n",
    "            templistS.append(S[time][i])\n",
    "        if P[time][i]>0:\n",
    "            tempP+=P[time][i]\n",
    "            lenP+=1\n",
    "            templistP.append(P[time][i])\n",
    "            \n",
    "    #### saving the data based on date    \n",
    "    T_std[i]=np.std(templistT)\n",
    "    S_std[i]=np.std(templistS)\n",
    "    P_std[i]=np.std(templistP)\n",
    "    T_time[i]=tempT/lenT\n",
    "    S_time[i]=tempS/lenS\n",
    "    P_time[i]=tempP/lenP\n",
    "    \n",
    "    #### clearing dummy variables to iterate again\n",
    "    templistT=[]\n",
    "    templistS=[]\n",
    "    templistP=[]\n",
    "    tempT=0\n",
    "    tempS=0\n",
    "    tempP=0\n",
    "    lenT=0\n",
    "    lenS=0\n",
    "    lenP=0"
   ]
  },
  {
   "cell_type": "markdown",
   "metadata": {},
   "source": [
    "#### 1.11 Plot the mean T, S and P for each entry in *time*, now on a *3 x 1* subplot grid with time on the horizontal axis. Show error bars on each plot using the standard deviations."
   ]
  },
  {
   "cell_type": "code",
   "execution_count": 401,
   "metadata": {},
   "outputs": [
    {
     "data": {
      "image/png": "[encoded data removed]",
      "text/plain": [
       "<Figure size 432x288 with 3 Axes>"
      ]
     },
     "metadata": {
      "needs_background": "light"
     },
     "output_type": "display_data"
    }
   ],
   "source": [
    "fig, axes = plt.subplots(3,1)\n",
    "axes[0].errorbar(date,T_time,yerr=T_std)\n",
    "axes[0].set(ylabel='T')\n",
    "axes[1].errorbar(date,S_time,yerr=S_std)\n",
    "axes[1].set(ylabel='S')\n",
    "axes[2].errorbar(date,P_time,yerr=P_std)\n",
    "axes[2].set(ylabel='P')\n",
    "axes[2].set(xlabel='date')\n",
    "axes[2].xaxis.set_tick_params(rotation=45)\n",
    "axes[0].set_xticklabels([])\n",
    "axes[1].set_xticklabels([])\n",
    "\n",
    "\n",
    "plt.show()"
   ]
  },
  {
   "cell_type": "markdown",
   "metadata": {},
   "source": [
    "#### 1.12 Create a scatter plot of the positions of the ARGO float data.  Color the positions by the date. Add a grid overlay. \n",
    "Don't forget to label the axes!"
   ]
  },
  {
   "cell_type": "code",
   "execution_count": 402,
   "metadata": {},
   "outputs": [
    {
     "data": {
      "image/png": "[encoded data removed]",
      "text/plain": [
       "<Figure size 432x288 with 1 Axes>"
      ]
     },
     "metadata": {
      "needs_background": "light"
     },
     "output_type": "display_data"
    }
   ],
   "source": [
    "import random\n",
    "\n",
    "fig=plt.figure()\n",
    "axes=fig.add_subplot()\n",
    "for i in range(len(lat)):\n",
    "    # using rgb values to have each date as a different color\n",
    "    # Chances of reproducing the same color is exponentially low so do not need to track which colors are used already\n",
    "    # No legend since there are so many data points\n",
    "    rgb = (random.random(),random.random(),random.random())\n",
    "    axes.scatter(lat[i], lon[i],c=[rgb] )\n",
    "    axes.set(ylabel='longitude', xlabel='latitude')\n",
    "    \n",
    "plt.show()\n",
    "\n",
    "    "
   ]
  },
  {
   "cell_type": "markdown",
   "metadata": {},
   "source": [
    "# 2 Matrix  multiplication\n",
    "#### 2.1 Create a function called myMatrixMultiply that takes input matrices X and Y and computes their matrix product. \n",
    "\n",
    "*Matrix Multiplication.* In this exercise you will create two square matrices $A$ and $B$ with dimensions $n \\times n$. You will then use [matrix multiplication](https://en.wikipedia.org/wiki/Matrix_multiplication) to compute their product with the results being stored in matrix $C$. Thus, you will be computing the matrix equation $C = AB$. Note that matrix multiplication is different from element by element array multiplication. See the [wikipedia page](https://en.wikipedia.org/wiki/Matrix_multiplication) if you are unsure what matrix multiplication is.\n",
    "\n",
    "Use three nested `for` loops to *explicitly* perform the matrix multiplication. The inner most loop calculates element `C[i,j]` which is equal to the sum of `A[i,k]*B[k,j]` over all values of index `k` from `0` to `n-1`. The two outer loops iterate over `i` and `j`."
   ]
  },
  {
   "cell_type": "code",
   "execution_count": 403,
   "metadata": {},
   "outputs": [],
   "source": [
    "def myMatrixMultiply(A,B,n):\n",
    "    C=np.zeros((n,n))\n",
    "    for i in range(len(A)):\n",
    "        for j in range(len(A[0])):\n",
    "            for k in range(len(A)):\n",
    "                C[i][j]=C[i][j]+(A[i][k]*B[k,j])\n",
    "    return C\n"
   ]
  },
  {
   "cell_type": "markdown",
   "metadata": {},
   "source": [
    "#### 2.2 Create ones() square matrices for A and B with n = 100. Use the `%timeit` function to compute the matrix product AB using your function `myMatrixMultiply`."
   ]
  },
  {
   "cell_type": "code",
   "execution_count": 390,
   "metadata": {},
   "outputs": [
    {
     "name": "stdout",
     "output_type": "stream",
     "text": [
      "1.3 s ± 26.2 ms per loop (mean ± std. dev. of 7 runs, 1 loop each)\n"
     ]
    }
   ],
   "source": [
    "import timeit\n",
    "%timeit -n1 myMatrixMultiply(np.ones((100,100)),np.ones((100,100)),100)"
   ]
  },
  {
   "cell_type": "markdown",
   "metadata": {},
   "source": [
    "#### 2.3 Now let's see how much faster Numpy's built in matrix multiplication routine is. \n",
    "In Numpy, matrix multiplication is done using the `dot()` function. Use the `%timeit` function to compute the matrix product AB for n = 100 using `dot()` and time it using the `%timeit` function.\n",
    "\n",
    "How much faster is using NumPy's `dot()` compared your `myMatrixMultiply` function? "
   ]
  },
  {
   "cell_type": "code",
   "execution_count": 58,
   "metadata": {},
   "outputs": [
    {
     "name": "stdout",
     "output_type": "stream",
     "text": [
      "The slowest run took 4.18 times longer than the fastest. This could mean that an intermediate result is being cached.\n",
      "154 µs ± 79.3 µs per loop (mean ± std. dev. of 7 runs, 1 loop each)\n"
     ]
    }
   ],
   "source": [
    "A=np.ones((100,100))\n",
    "B=np.ones((100,100))\n",
    "%timeit -n1 np.dot(A,B)\n",
    "\n",
    "#### Using np.dot() is ~6000x faster than systematically iterating through each index"
   ]
  },
  {
   "cell_type": "markdown",
   "metadata": {},
   "source": [
    "Now time how long the NumPy `dot()` version takes for n = 1000"
   ]
  },
  {
   "cell_type": "code",
   "execution_count": 59,
   "metadata": {},
   "outputs": [
    {
     "name": "stdout",
     "output_type": "stream",
     "text": [
      "30.2 ms ± 4.11 ms per loop (mean ± std. dev. of 7 runs, 1 loop each)\n"
     ]
    }
   ],
   "source": [
    "A=np.ones((1000,1000))\n",
    "B=np.ones((1000,1000))\n",
    "%timeit -n1 np.dot(A,B)\n",
    "\n",
    "##Using 1000x1000 for np.dot() is still ~40x faster than using 100x100 than the myMatrixMultiply function."
   ]
  },
  {
   "cell_type": "markdown",
   "metadata": {},
   "source": [
    "And, finally, measure NumPy's `dot()` for n = 10000 (be patient, and defintely don't try this with `myMatrixMultiply` !)"
   ]
  },
  {
   "cell_type": "code",
   "execution_count": 61,
   "metadata": {},
   "outputs": [
    {
     "name": "stdout",
     "output_type": "stream",
     "text": [
      "18.8 s ± 674 ms per loop (mean ± std. dev. of 7 runs, 1 loop each)\n"
     ]
    }
   ],
   "source": [
    "A=np.ones((10000,10000))\n",
    "B=np.ones((10000,10000))\n",
    "%timeit -n1 np.dot(A,B)"
   ]
  },
  {
   "cell_type": "markdown",
   "metadata": {},
   "source": [
    "Your results should demonstrate to you that the run time for matrix-matrix multiplication scales as a power law of `n`.\n",
    "\n",
    "Assuming that the run time of `myMatrixMultiply` is proportional to the cube of `n`, approximately how long would you expect the run time to be for n=10000 in the original Python version?\n"
   ]
  },
  {
   "cell_type": "code",
   "execution_count": 391,
   "metadata": {},
   "outputs": [],
   "source": [
    "## It would take ~(10000)^3=1e12 seconds (~32000 years)"
   ]
  },
  {
   "cell_type": "markdown",
   "metadata": {},
   "source": [
    "NumPy allows you to do computations that would be way to slow with only Python statements."
   ]
  }
 ],
 "metadata": {
  "kernelspec": {
   "display_name": "Python 3",
   "language": "python",
   "name": "python3"
  },
  "language_info": {
   "codemirror_mode": {
    "name": "ipython",
    "version": 3
   },
   "file_extension": ".py",
   "mimetype": "text/x-python",
   "name": "python",
   "nbconvert_exporter": "python",
   "pygments_lexer": "ipython3",
   "version": "3.8.3"
  }
 },
 "nbformat": 4,
 "nbformat_minor": 4
}
